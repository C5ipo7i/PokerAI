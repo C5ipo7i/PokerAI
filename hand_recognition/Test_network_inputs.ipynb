{
 "cells": [
  {
   "cell_type": "code",
   "execution_count": 1,
   "metadata": {},
   "outputs": [],
   "source": [
    "import torch\n",
    "import numpy as np\n",
    "import os\n",
    "\n",
    "from networks import HandRankClassificationFive\n",
    "from evaluate_card_models import load_weights\n",
    "from network_config import NetworkConfig\n",
    "import datatypes as dt"
   ]
  },
  {
   "cell_type": "code",
   "execution_count": 2,
   "metadata": {},
   "outputs": [],
   "source": [
    "def load_weights(net):\n",
    "    if torch.cuda.is_available():\n",
    "        net.load_state_dict(torch.load(examine_params['load_path']))\n",
    "    else: \n",
    "        net.load_state_dict(torch.load(examine_params['load_path'],map_location=torch.device('cpu')))"
   ]
  },
  {
   "cell_type": "code",
   "execution_count": 3,
   "metadata": {},
   "outputs": [],
   "source": [
    "datatype = 'handranksfive'\n",
    "learning_category = dt.Globals.DatasetCategories[datatype]"
   ]
  },
  {
   "cell_type": "code",
   "execution_count": 4,
   "metadata": {},
   "outputs": [],
   "source": [
    "network = NetworkConfig.DataModels[datatype]\n",
    "network_name = NetworkConfig.DataModels[datatype].__name__\n",
    "network_path = os.path.join('checkpoints',learning_category,network_name)\n",
    "\n",
    "network_params = {\n",
    "    'seed':346,\n",
    "    'state_space':(13,2),\n",
    "    'nA':dt.Globals.ACTION_SPACES[datatype],\n",
    "    'channels':13,\n",
    "    'kernel':2,\n",
    "    'batchnorm':True,\n",
    "    'conv_layers':1,\n",
    "    'gpu1': torch.device(\"cuda:0\" if torch.cuda.is_available() else \"cpu\"),\n",
    "    'gpu2': torch.device(\"cuda:1\" if torch.cuda.is_available() else \"cpu\")\n",
    "}\n",
    "examine_params = {\n",
    "        'network':network,\n",
    "        'load_path':network_path\n",
    "    }"
   ]
  },
  {
   "cell_type": "code",
   "execution_count": 5,
   "metadata": {},
   "outputs": [],
   "source": [
    "net = network(network_params)"
   ]
  },
  {
   "cell_type": "code",
   "execution_count": 6,
   "metadata": {},
   "outputs": [],
   "source": [
    "load_weights(net)"
   ]
  },
  {
   "cell_type": "markdown",
   "metadata": {},
   "source": [
    "# Inputs"
   ]
  },
  {
   "cell_type": "code",
   "execution_count": 7,
   "metadata": {},
   "outputs": [],
   "source": [
    "ranks = torch.tensor([[[[ 8,  8,  3,  7, 11],\n",
    "          [ 8,  8,  3,  7, 11],\n",
    "          [ 8,  8,  3,  7, 13],\n",
    "          [ 8,  8,  3, 11, 11],\n",
    "          [ 8,  8,  3, 11, 13],\n",
    "          [ 8,  8,  3, 11, 13],\n",
    "          [ 8,  8,  7, 11, 11],\n",
    "          [ 8,  8,  7, 11, 13],\n",
    "          [ 8,  8,  7, 11, 13],\n",
    "          [ 8,  8, 11, 11, 13],\n",
    "          [ 8, 11,  3,  7, 11],\n",
    "          [ 8, 11,  3,  7, 11],\n",
    "          [ 8, 11,  3,  7, 13],\n",
    "          [ 8, 11,  3, 11, 11],\n",
    "          [ 8, 11,  3, 11, 13],\n",
    "          [ 8, 11,  3, 11, 13],\n",
    "          [ 8, 11,  7, 11, 11],\n",
    "          [ 8, 11,  7, 11, 13],\n",
    "          [ 8, 11,  7, 11, 13],\n",
    "          [ 8, 11, 11, 11, 13],\n",
    "          [ 8, 11,  3,  7, 11],\n",
    "          [ 8, 11,  3,  7, 11],\n",
    "          [ 8, 11,  3,  7, 13],\n",
    "          [ 8, 11,  3, 11, 11],\n",
    "          [ 8, 11,  3, 11, 13],\n",
    "          [ 8, 11,  3, 11, 13],\n",
    "          [ 8, 11,  7, 11, 11],\n",
    "          [ 8, 11,  7, 11, 13],\n",
    "          [ 8, 11,  7, 11, 13],\n",
    "          [ 8, 11, 11, 11, 13],\n",
    "          [ 8, 11,  3,  7, 11],\n",
    "          [ 8, 11,  3,  7, 11],\n",
    "          [ 8, 11,  3,  7, 13],\n",
    "          [ 8, 11,  3, 11, 11],\n",
    "          [ 8, 11,  3, 11, 13],\n",
    "          [ 8, 11,  3, 11, 13],\n",
    "          [ 8, 11,  7, 11, 11],\n",
    "          [ 8, 11,  7, 11, 13],\n",
    "          [ 8, 11,  7, 11, 13],\n",
    "          [ 8, 11, 11, 11, 13],\n",
    "          [ 8, 11,  3,  7, 11],\n",
    "          [ 8, 11,  3,  7, 11],\n",
    "          [ 8, 11,  3,  7, 13],\n",
    "          [ 8, 11,  3, 11, 11],\n",
    "          [ 8, 11,  3, 11, 13],\n",
    "          [ 8, 11,  3, 11, 13],\n",
    "          [ 8, 11,  7, 11, 11],\n",
    "          [ 8, 11,  7, 11, 13],\n",
    "          [ 8, 11,  7, 11, 13],\n",
    "          [ 8, 11, 11, 11, 13],\n",
    "          [11, 11,  3,  7, 11],\n",
    "          [11, 11,  3,  7, 11],\n",
    "          [11, 11,  3,  7, 13],\n",
    "          [11, 11,  3, 11, 11],\n",
    "          [11, 11,  3, 11, 13],\n",
    "          [11, 11,  3, 11, 13],\n",
    "          [11, 11,  7, 11, 11],\n",
    "          [11, 11,  7, 11, 13],\n",
    "          [11, 11,  7, 11, 13],\n",
    "          [11, 11, 11, 11, 13]]]])\n"
   ]
  },
  {
   "cell_type": "code",
   "execution_count": 8,
   "metadata": {},
   "outputs": [],
   "source": [
    "suits = torch.tensor([[[[3, 4, 2, 4, 1],\n",
    "          [3, 4, 2, 4, 3],\n",
    "          [3, 4, 2, 4, 1],\n",
    "          [3, 4, 2, 1, 3],\n",
    "          [3, 4, 2, 1, 1],\n",
    "          [3, 4, 2, 3, 1],\n",
    "          [3, 4, 4, 1, 3],\n",
    "          [3, 4, 4, 1, 1],\n",
    "          [3, 4, 4, 3, 1],\n",
    "          [3, 4, 1, 3, 1],\n",
    "          [3, 2, 2, 4, 1],\n",
    "          [3, 2, 2, 4, 3],\n",
    "          [3, 2, 2, 4, 1],\n",
    "          [3, 2, 2, 1, 3],\n",
    "          [3, 2, 2, 1, 1],\n",
    "          [3, 2, 2, 3, 1],\n",
    "          [3, 2, 4, 1, 3],\n",
    "          [3, 2, 4, 1, 1],\n",
    "          [3, 2, 4, 3, 1],\n",
    "          [3, 2, 1, 3, 1],\n",
    "          [3, 4, 2, 4, 1],\n",
    "          [3, 4, 2, 4, 3],\n",
    "          [3, 4, 2, 4, 1],\n",
    "          [3, 4, 2, 1, 3],\n",
    "          [3, 4, 2, 1, 1],\n",
    "          [3, 4, 2, 3, 1],\n",
    "          [3, 4, 4, 1, 3],\n",
    "          [3, 4, 4, 1, 1],\n",
    "          [3, 4, 4, 3, 1],\n",
    "          [3, 4, 1, 3, 1],\n",
    "          [4, 2, 2, 4, 1],\n",
    "          [4, 2, 2, 4, 3],\n",
    "          [4, 2, 2, 4, 1],\n",
    "          [4, 2, 2, 1, 3],\n",
    "          [4, 2, 2, 1, 1],\n",
    "          [4, 2, 2, 3, 1],\n",
    "          [4, 2, 4, 1, 3],\n",
    "          [4, 2, 4, 1, 1],\n",
    "          [4, 2, 4, 3, 1],\n",
    "          [4, 2, 1, 3, 1],\n",
    "          [4, 4, 2, 4, 1],\n",
    "          [4, 4, 2, 4, 3],\n",
    "          [4, 4, 2, 4, 1],\n",
    "          [4, 4, 2, 1, 3],\n",
    "          [4, 4, 2, 1, 1],\n",
    "          [4, 4, 2, 3, 1],\n",
    "          [4, 4, 4, 1, 3],\n",
    "          [4, 4, 4, 1, 1],\n",
    "          [4, 4, 4, 3, 1],\n",
    "          [4, 4, 1, 3, 1],\n",
    "          [2, 4, 2, 4, 1],\n",
    "          [2, 4, 2, 4, 3],\n",
    "          [2, 4, 2, 4, 1],\n",
    "          [2, 4, 2, 1, 3],\n",
    "          [2, 4, 2, 1, 1],\n",
    "          [2, 4, 2, 3, 1],\n",
    "          [2, 4, 4, 1, 3],\n",
    "          [2, 4, 4, 1, 1],\n",
    "          [2, 4, 4, 3, 1],\n",
    "          [2, 4, 1, 3, 1]]]])"
   ]
  },
  {
   "cell_type": "code",
   "execution_count": 9,
   "metadata": {},
   "outputs": [],
   "source": [
    "net_inputs = torch.stack((ranks,suits))"
   ]
  },
  {
   "cell_type": "code",
   "execution_count": 10,
   "metadata": {},
   "outputs": [],
   "source": [
    "net_inputs = net_inputs.squeeze(1).squeeze(1)"
   ]
  },
  {
   "cell_type": "code",
   "execution_count": 11,
   "metadata": {},
   "outputs": [],
   "source": [
    "net_inputs = net_inputs.permute(1,2,0)"
   ]
  },
  {
   "cell_type": "code",
   "execution_count": 12,
   "metadata": {},
   "outputs": [
    {
     "data": {
      "text/plain": [
       "torch.Size([60, 5, 2])"
      ]
     },
     "execution_count": 12,
     "metadata": {},
     "output_type": "execute_result"
    }
   ],
   "source": [
    "net_inputs.shape"
   ]
  },
  {
   "cell_type": "code",
   "execution_count": 13,
   "metadata": {},
   "outputs": [
    {
     "name": "stdout",
     "output_type": "stream",
     "text": [
      "torch.Size([60, 5, 15]) torch.Size([60, 5, 5])\n"
     ]
    }
   ],
   "source": [
    "outputs = net(net_inputs)"
   ]
  },
  {
   "cell_type": "code",
   "execution_count": 14,
   "metadata": {},
   "outputs": [
    {
     "data": {
      "text/plain": [
       "tensor([4798, 4798, 4734, 2862, 4716, 4716, 2858, 4712, 4712, 2854, 4174, 4174,\n",
       "        6850, 1857, 4069, 4069, 4129, 4065, 4065, 1822, 4174, 4174, 6850, 1857,\n",
       "        4069, 4069, 4129, 4065, 4065, 1822, 4174, 4174, 6850, 1857, 4069, 4069,\n",
       "        4129, 4065, 4065, 4065, 4174, 4174, 6850, 1857, 4069, 4069, 1853, 4065,\n",
       "        4065, 1822, 1862, 1862, 4074,   57, 1827, 1827,   53, 1823, 4065,   48])"
      ]
     },
     "execution_count": 14,
     "metadata": {},
     "output_type": "execute_result"
    }
   ],
   "source": [
    "torch.argmax(torch.softmax(outputs,dim=-1),dim=-1)"
   ]
  },
  {
   "cell_type": "code",
   "execution_count": null,
   "metadata": {},
   "outputs": [],
   "source": []
  }
 ],
 "metadata": {
  "kernelspec": {
   "display_name": "Python 3",
   "language": "python",
   "name": "python3"
  },
  "language_info": {
   "codemirror_mode": {
    "name": "ipython",
    "version": 3
   },
   "file_extension": ".py",
   "mimetype": "text/x-python",
   "name": "python",
   "nbconvert_exporter": "python",
   "pygments_lexer": "ipython3",
   "version": "3.8.2"
  }
 },
 "nbformat": 4,
 "nbformat_minor": 4
}
