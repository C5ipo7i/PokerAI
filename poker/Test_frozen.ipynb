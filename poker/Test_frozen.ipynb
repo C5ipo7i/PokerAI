{
 "cells": [
  {
   "cell_type": "markdown",
   "metadata": {},
   "source": [
    "# Load and test network on any input"
   ]
  },
  {
   "cell_type": "code",
   "execution_count": 1,
   "metadata": {},
   "outputs": [],
   "source": [
    "import torch\n",
    "import numpy as np\n",
    "\n",
    "import poker_env.datatypes as pdt\n",
    "from poker_env.env import Poker\n",
    "from poker_env.config import Config\n",
    "from models.networks import OmahaActor,OmahaQCritic,OmahaObsQCritic,CombinedNet\n",
    "from models.model_layers import ProcessHandBoard\n",
    "from models.model_utils import strip_padding,unspool,hardcode_handstrength"
   ]
  },
  {
   "cell_type": "code",
   "execution_count": 2,
   "metadata": {},
   "outputs": [],
   "source": [
    "config = Config()\n",
    "game_object = pdt.Globals.GameTypeDict[pdt.GameTypes.OMAHAHI]\n",
    "\n",
    "env_params = {\n",
    "    'game':pdt.GameTypes.OMAHAHI,\n",
    "    'betsizes': game_object.rule_params['betsizes'],\n",
    "    'bet_type': game_object.rule_params['bettype'],\n",
    "    'n_players': 2,\n",
    "    'pot':1,\n",
    "    'stacksize': game_object.state_params['stacksize'],\n",
    "    'cards_per_player': game_object.state_params['cards_per_player'],\n",
    "    'starting_street': game_object.starting_street,\n",
    "    'global_mapping':config.global_mapping,\n",
    "    'state_mapping':config.state_mapping,\n",
    "    'obs_mapping':config.obs_mapping,\n",
    "    'shuffle':True\n",
    "}\n",
    "\n",
    "env = Poker(env_params)\n",
    "\n",
    "nS = env.state_space\n",
    "nA = env.action_space\n",
    "nB = env.betsize_space\n",
    "seed = 1235\n",
    "device = torch.device(cuda_dict[args.gpu] if torch.cuda.is_available() else \"cpu\")\n",
    "gpu1 = 'cuda:0'\n",
    "gpu2 = 'cuda:1'\n",
    "network_params                                = config.network_params\n",
    "network_params['device']                      = device"
   ]
  },
  {
   "cell_type": "markdown",
   "metadata": {},
   "source": [
    "# Instantiate net and copy weights"
   ]
  },
  {
   "cell_type": "code",
   "execution_count": 3,
   "metadata": {},
   "outputs": [],
   "source": [
    "def copy_weights(net,path):\n",
    "    if torch.cuda.is_available():\n",
    "        layer_weights = torch.load(path)\n",
    "    else:\n",
    "        layer_weights = torch.load(path,map_location=torch.device('cpu'))\n",
    "    for name, param in net.named_parameters():\n",
    "        if name in layer_weights:\n",
    "            print('update_weights',name)\n",
    "            param.data.copy_(layer_weights[name].data)\n",
    "            param.requires_grad = False"
   ]
  },
  {
   "cell_type": "code",
   "execution_count": 4,
   "metadata": {},
   "outputs": [],
   "source": [
    "net = ProcessHandBoard(network_params,hand_length=4)"
   ]
  },
  {
   "cell_type": "code",
   "execution_count": 5,
   "metadata": {},
   "outputs": [
    {
     "name": "stdout",
     "output_type": "stream",
     "text": [
      "update_weights suit_conv.0.weight\n",
      "update_weights suit_conv.0.bias\n",
      "update_weights suit_conv.1.weight\n",
      "update_weights suit_conv.1.bias\n",
      "update_weights rank_conv.0.weight\n",
      "update_weights rank_conv.0.bias\n",
      "update_weights rank_conv.1.weight\n",
      "update_weights rank_conv.1.bias\n",
      "update_weights hidden_layers.0.weight\n",
      "update_weights hidden_layers.0.bias\n",
      "update_weights hidden_layers.1.weight\n",
      "update_weights hidden_layers.1.bias\n",
      "update_weights categorical_output.weight\n",
      "update_weights categorical_output.bias\n"
     ]
    }
   ],
   "source": [
    "copy_weights(net,config.network_params['actor_hand_recognizer_path'])"
   ]
  },
  {
   "cell_type": "code",
   "execution_count": 6,
   "metadata": {
    "scrolled": true
   },
   "outputs": [
    {
     "name": "stdout",
     "output_type": "stream",
     "text": [
      "suit_conv.0.weight False\n",
      "suit_conv.0.bias False\n",
      "suit_conv.1.weight False\n",
      "suit_conv.1.bias False\n",
      "rank_conv.0.weight False\n",
      "rank_conv.0.bias False\n",
      "rank_conv.1.weight False\n",
      "rank_conv.1.bias False\n",
      "hand_out.weight True\n",
      "hand_out.bias True\n",
      "hidden_layers.0.weight False\n",
      "hidden_layers.0.bias False\n",
      "hidden_layers.1.weight False\n",
      "hidden_layers.1.bias False\n",
      "categorical_output.weight False\n",
      "categorical_output.bias False\n"
     ]
    }
   ],
   "source": [
    "for name, param in net.named_parameters():\n",
    "    print(name,param.requires_grad)"
   ]
  },
  {
   "cell_type": "code",
   "execution_count": 7,
   "metadata": {},
   "outputs": [],
   "source": [
    "net_input = torch.tensor([[[13.,  4., 11.,  3.,  5.,  1., 14.,  2., 11.,  2., 14.,  1.,  2.,  3.,\n",
    "           9.,  2., 13.,  3.],\n",
    "         [13.,  4., 11.,  3.,  5.,  1., 14.,  2., 11.,  2., 14.,  1.,  2.,  3.,\n",
    "           9.,  2., 13.,  3.]]])"
   ]
  },
  {
   "cell_type": "code",
   "execution_count": 8,
   "metadata": {},
   "outputs": [
    {
     "data": {
      "text/plain": [
       "torch.Size([1, 2, 18])"
      ]
     },
     "execution_count": 8,
     "metadata": {},
     "output_type": "execute_result"
    }
   ],
   "source": [
    "net_input.size()"
   ]
  },
  {
   "cell_type": "code",
   "execution_count": 10,
   "metadata": {},
   "outputs": [],
   "source": [
    "def compare_weights(net):\n",
    "    path = '/Users/morgan/Code/PokerAI/poker/checkpoints/frozen_layers/hand_board_weights'\n",
    "    if torch.cuda.is_available():\n",
    "        layer_weights = torch.load(path)\n",
    "    else:\n",
    "        layer_weights = torch.load(path,map_location=torch.device('cpu'))\n",
    "    print(net)\n",
    "    for name, param in net.named_parameters():\n",
    "        if name in layer_weights:\n",
    "            print(f'Layer {name},Equal {np.array_equal(param.data.numpy(),layer_weights[name].data.numpy())}')\n"
   ]
  },
  {
   "cell_type": "markdown",
   "metadata": {},
   "source": [
    "# compare vs baseline"
   ]
  },
  {
   "cell_type": "code",
   "execution_count": 11,
   "metadata": {},
   "outputs": [
    {
     "name": "stdout",
     "output_type": "stream",
     "text": [
      "ProcessHandBoard(\n",
      "  (suit_conv): Sequential(\n",
      "    (0): Conv1d(5, 128, kernel_size=(1,), stride=(1,))\n",
      "    (1): BatchNorm1d(128, eps=1e-05, momentum=0.1, affine=True, track_running_stats=True)\n",
      "    (2): ReLU(inplace=True)\n",
      "  )\n",
      "  (rank_conv): Sequential(\n",
      "    (0): Conv1d(5, 128, kernel_size=(5,), stride=(1,))\n",
      "    (1): BatchNorm1d(128, eps=1e-05, momentum=0.1, affine=True, track_running_stats=True)\n",
      "    (2): ReLU(inplace=True)\n",
      "  )\n",
      "  (hand_out): Linear(in_features=7463, out_features=128, bias=True)\n",
      "  (hidden_layers): ModuleList(\n",
      "    (0): Linear(in_features=16, out_features=32, bias=True)\n",
      "    (1): Linear(in_features=32, out_features=32, bias=True)\n",
      "  )\n",
      "  (bn_layers): ModuleList()\n",
      "  (categorical_output): Linear(in_features=4096, out_features=7463, bias=True)\n",
      ")\n",
      "Layer suit_conv.0.weight,Equal True\n",
      "Layer suit_conv.0.bias,Equal True\n",
      "Layer suit_conv.1.weight,Equal True\n",
      "Layer suit_conv.1.bias,Equal True\n",
      "Layer rank_conv.0.weight,Equal True\n",
      "Layer rank_conv.0.bias,Equal True\n",
      "Layer rank_conv.1.weight,Equal True\n",
      "Layer rank_conv.1.bias,Equal True\n",
      "Layer hidden_layers.0.weight,Equal True\n",
      "Layer hidden_layers.0.bias,Equal True\n",
      "Layer hidden_layers.1.weight,Equal True\n",
      "Layer hidden_layers.1.bias,Equal True\n",
      "Layer categorical_output.weight,Equal True\n",
      "Layer categorical_output.bias,Equal True\n"
     ]
    }
   ],
   "source": [
    "compare_weights(net)"
   ]
  },
  {
   "cell_type": "code",
   "execution_count": 12,
   "metadata": {},
   "outputs": [
    {
     "name": "stdout",
     "output_type": "stream",
     "text": [
      "tensor([[ 0.1641],\n",
      "        [ 0.4222],\n",
      "        [-0.3495],\n",
      "        [-0.5700],\n",
      "        [ 0.3859]])\n",
      "x tensor([[[13.,  4., 11.,  3.,  5.,  1., 14.,  2., 11.,  2., 14.,  1.,  2.,  3.,\n",
      "           9.,  2., 13.,  3.],\n",
      "         [13.,  4., 11.,  3.,  5.,  1., 14.,  2., 11.,  2., 14.,  1.,  2.,  3.,\n",
      "           9.,  2., 13.,  3.]]])\n",
      "tensor([[ 0.1641],\n",
      "        [ 0.4222],\n",
      "        [-0.3495],\n",
      "        [-0.5700],\n",
      "        [ 0.3859]])\n",
      "result torch.Size([1, 2, 60])\n",
      "best hand guess tensor([[2469, 2469]])\n",
      "baseline tensor([[[2469.],\n",
      "         [2469.]]])\n"
     ]
    },
    {
     "ename": "NameError",
     "evalue": "name 'asdf' is not defined",
     "output_type": "error",
     "traceback": [
      "\u001b[0;31m---------------------------------------------------------------------------\u001b[0m",
      "\u001b[0;31mNameError\u001b[0m                                 Traceback (most recent call last)",
      "\u001b[0;32m<ipython-input-12-d817143d0af0>\u001b[0m in \u001b[0;36m<module>\u001b[0;34m\u001b[0m\n\u001b[0;32m----> 1\u001b[0;31m \u001b[0mout\u001b[0m \u001b[0;34m=\u001b[0m \u001b[0mnet\u001b[0m\u001b[0;34m(\u001b[0m\u001b[0mnet_input\u001b[0m\u001b[0;34m)\u001b[0m\u001b[0;34m\u001b[0m\u001b[0;34m\u001b[0m\u001b[0m\n\u001b[0m",
      "\u001b[0;32m/anaconda3/envs/poker/lib/python3.8/site-packages/torch/nn/modules/module.py\u001b[0m in \u001b[0;36m__call__\u001b[0;34m(self, *input, **kwargs)\u001b[0m\n\u001b[1;32m    530\u001b[0m             \u001b[0mresult\u001b[0m \u001b[0;34m=\u001b[0m \u001b[0mself\u001b[0m\u001b[0;34m.\u001b[0m\u001b[0m_slow_forward\u001b[0m\u001b[0;34m(\u001b[0m\u001b[0;34m*\u001b[0m\u001b[0minput\u001b[0m\u001b[0;34m,\u001b[0m \u001b[0;34m**\u001b[0m\u001b[0mkwargs\u001b[0m\u001b[0;34m)\u001b[0m\u001b[0;34m\u001b[0m\u001b[0;34m\u001b[0m\u001b[0m\n\u001b[1;32m    531\u001b[0m         \u001b[0;32melse\u001b[0m\u001b[0;34m:\u001b[0m\u001b[0;34m\u001b[0m\u001b[0;34m\u001b[0m\u001b[0m\n\u001b[0;32m--> 532\u001b[0;31m             \u001b[0mresult\u001b[0m \u001b[0;34m=\u001b[0m \u001b[0mself\u001b[0m\u001b[0;34m.\u001b[0m\u001b[0mforward\u001b[0m\u001b[0;34m(\u001b[0m\u001b[0;34m*\u001b[0m\u001b[0minput\u001b[0m\u001b[0;34m,\u001b[0m \u001b[0;34m**\u001b[0m\u001b[0mkwargs\u001b[0m\u001b[0;34m)\u001b[0m\u001b[0;34m\u001b[0m\u001b[0;34m\u001b[0m\u001b[0m\n\u001b[0m\u001b[1;32m    533\u001b[0m         \u001b[0;32mfor\u001b[0m \u001b[0mhook\u001b[0m \u001b[0;32min\u001b[0m \u001b[0mself\u001b[0m\u001b[0;34m.\u001b[0m\u001b[0m_forward_hooks\u001b[0m\u001b[0;34m.\u001b[0m\u001b[0mvalues\u001b[0m\u001b[0;34m(\u001b[0m\u001b[0;34m)\u001b[0m\u001b[0;34m:\u001b[0m\u001b[0;34m\u001b[0m\u001b[0;34m\u001b[0m\u001b[0m\n\u001b[1;32m    534\u001b[0m             \u001b[0mhook_result\u001b[0m \u001b[0;34m=\u001b[0m \u001b[0mhook\u001b[0m\u001b[0;34m(\u001b[0m\u001b[0mself\u001b[0m\u001b[0;34m,\u001b[0m \u001b[0minput\u001b[0m\u001b[0;34m,\u001b[0m \u001b[0mresult\u001b[0m\u001b[0;34m)\u001b[0m\u001b[0;34m\u001b[0m\u001b[0;34m\u001b[0m\u001b[0m\n",
      "\u001b[0;32m~/Code/PokerAI/poker/models/model_layers.py\u001b[0m in \u001b[0;36mforward\u001b[0;34m(self, x)\u001b[0m\n\u001b[1;32m    151\u001b[0m                 \u001b[0;32mfor\u001b[0m \u001b[0mhidden_layer\u001b[0m \u001b[0;32min\u001b[0m \u001b[0mself\u001b[0m\u001b[0;34m.\u001b[0m\u001b[0mhidden_layers\u001b[0m\u001b[0;34m:\u001b[0m\u001b[0;34m\u001b[0m\u001b[0;34m\u001b[0m\u001b[0m\n\u001b[1;32m    152\u001b[0m                     \u001b[0mout\u001b[0m \u001b[0;34m=\u001b[0m \u001b[0mself\u001b[0m\u001b[0;34m.\u001b[0m\u001b[0mactivation_fc\u001b[0m\u001b[0;34m(\u001b[0m\u001b[0mhidden_layer\u001b[0m\u001b[0;34m(\u001b[0m\u001b[0mout\u001b[0m\u001b[0;34m)\u001b[0m\u001b[0;34m)\u001b[0m\u001b[0;34m\u001b[0m\u001b[0;34m\u001b[0m\u001b[0m\n\u001b[0;32m--> 153\u001b[0;31m                 \u001b[0mout\u001b[0m \u001b[0;34m=\u001b[0m \u001b[0mself\u001b[0m\u001b[0;34m.\u001b[0m\u001b[0mcategorical_output\u001b[0m\u001b[0;34m(\u001b[0m\u001b[0mout\u001b[0m\u001b[0;34m.\u001b[0m\u001b[0mview\u001b[0m\u001b[0;34m(\u001b[0m\u001b[0;36m60\u001b[0m\u001b[0;34m,\u001b[0m\u001b[0;34m-\u001b[0m\u001b[0;36m1\u001b[0m\u001b[0;34m)\u001b[0m\u001b[0;34m)\u001b[0m\u001b[0;34m\u001b[0m\u001b[0;34m\u001b[0m\u001b[0m\n\u001b[0m\u001b[1;32m    154\u001b[0m                 \u001b[0;31m# out = torch.argmax(torch.softmax(out,dim=-1))\u001b[0m\u001b[0;34m\u001b[0m\u001b[0;34m\u001b[0m\u001b[0;34m\u001b[0m\u001b[0m\n\u001b[1;32m    155\u001b[0m                 \u001b[0mcombinations\u001b[0m\u001b[0;34m.\u001b[0m\u001b[0mappend\u001b[0m\u001b[0;34m(\u001b[0m\u001b[0mtorch\u001b[0m\u001b[0;34m.\u001b[0m\u001b[0margmax\u001b[0m\u001b[0;34m(\u001b[0m\u001b[0mtorch\u001b[0m\u001b[0;34m.\u001b[0m\u001b[0msoftmax\u001b[0m\u001b[0;34m(\u001b[0m\u001b[0mout\u001b[0m\u001b[0;34m,\u001b[0m\u001b[0mdim\u001b[0m\u001b[0;34m=\u001b[0m\u001b[0;34m-\u001b[0m\u001b[0;36m1\u001b[0m\u001b[0;34m)\u001b[0m\u001b[0;34m,\u001b[0m\u001b[0mdim\u001b[0m\u001b[0;34m=\u001b[0m\u001b[0;34m-\u001b[0m\u001b[0;36m1\u001b[0m\u001b[0;34m)\u001b[0m\u001b[0;34m)\u001b[0m\u001b[0;34m\u001b[0m\u001b[0;34m\u001b[0m\u001b[0m\n",
      "\u001b[0;31mNameError\u001b[0m: name 'asdf' is not defined"
     ]
    }
   ],
   "source": [
    "out = net(net_input)"
   ]
  },
  {
   "cell_type": "code",
   "execution_count": null,
   "metadata": {},
   "outputs": [],
   "source": [
    "print(hardcode_handstrength(net_input))"
   ]
  },
  {
   "cell_type": "code",
   "execution_count": null,
   "metadata": {},
   "outputs": [],
   "source": []
  }
 ],
 "metadata": {
  "kernelspec": {
   "display_name": "Python 3",
   "language": "python",
   "name": "python3"
  },
  "language_info": {
   "codemirror_mode": {
    "name": "ipython",
    "version": 3
   },
   "file_extension": ".py",
   "mimetype": "text/x-python",
   "name": "python",
   "nbconvert_exporter": "python",
   "pygments_lexer": "ipython3",
   "version": "3.8.2"
  }
 },
 "nbformat": 4,
 "nbformat_minor": 4
}
