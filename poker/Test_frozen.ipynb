{
 "cells": [
  {
   "cell_type": "markdown",
   "metadata": {},
   "source": [
    "# Load and test network on any input"
   ]
  },
  {
   "cell_type": "code",
   "execution_count": null,
   "metadata": {},
   "outputs": [],
   "source": [
    "import torch\n",
    "import numpy as np\n",
    "\n",
    "import poker_env.datatypes as pdt\n",
    "from poker_env.env import Poker\n",
    "from poker_env.config import Config\n",
    "from models.networks import OmahaActor,OmahaQCritic,OmahaObsQCritic,CombinedNet\n",
    "from models.model_layers import ProcessHandBoard\n",
    "from models.model_utils import strip_padding,unspool,hardcode_handstrength"
   ]
  },
  {
   "cell_type": "code",
   "execution_count": null,
   "metadata": {},
   "outputs": [],
   "source": [
    "config = Config()\n",
    "game_object = pdt.Globals.GameTypeDict[pdt.GameTypes.OMAHAHI]\n",
    "\n",
    "env_params = {\n",
    "    'game':pdt.GameTypes.OMAHAHI,\n",
    "    'betsizes': game_object.rule_params['betsizes'],\n",
    "    'bet_type': game_object.rule_params['bettype'],\n",
    "    'n_players': 2,\n",
    "    'pot':1,\n",
    "    'stacksize': game_object.state_params['stacksize'],\n",
    "    'cards_per_player': game_object.state_params['cards_per_player'],\n",
    "    'starting_street': game_object.starting_street,\n",
    "    'global_mapping':config.global_mapping,\n",
    "    'state_mapping':config.state_mapping,\n",
    "    'obs_mapping':config.obs_mapping,\n",
    "    'shuffle':True\n",
    "}\n",
    "\n",
    "env = Poker(env_params)\n",
    "\n",
    "nS = env.state_space\n",
    "nA = env.action_space\n",
    "nB = env.betsize_space\n",
    "seed = 1235\n",
    "device = torch.device(cuda_dict[args.gpu] if torch.cuda.is_available() else \"cpu\")\n",
    "gpu1 = 'cuda:0'\n",
    "gpu2 = 'cuda:1'\n",
    "network_params                                = config.network_params\n",
    "network_params['device']                      = device"
   ]
  },
  {
   "cell_type": "markdown",
   "metadata": {},
   "source": [
    "# Instantiate net and copy weights"
   ]
  },
  {
   "cell_type": "code",
   "execution_count": null,
   "metadata": {},
   "outputs": [],
   "source": [
    "def copy_weights(net,path):\n",
    "    if torch.cuda.is_available():\n",
    "        layer_weights = torch.load(path)\n",
    "    else:\n",
    "        layer_weights = torch.load(path,map_location=torch.device('cpu'))\n",
    "    for name, param in net.named_parameters():\n",
    "        if name in layer_weights:\n",
    "            print('update_weights',name)\n",
    "            param.data.copy_(layer_weights[name].data)\n",
    "            param.requires_grad = False"
   ]
  },
  {
   "cell_type": "code",
   "execution_count": null,
   "metadata": {},
   "outputs": [],
   "source": [
    "net = ProcessHandBoard(network_params,hand_length=4)"
   ]
  },
  {
   "cell_type": "code",
   "execution_count": null,
   "metadata": {},
   "outputs": [],
   "source": [
    "copy_weights(net,config.network_params['actor_hand_recognizer_path'])"
   ]
  },
  {
   "cell_type": "code",
   "execution_count": null,
   "metadata": {
    "scrolled": true
   },
   "outputs": [],
   "source": [
    "for name, param in net.named_parameters():\n",
    "    print(name,param.requires_grad)"
   ]
  },
  {
   "cell_type": "code",
   "execution_count": null,
   "metadata": {},
   "outputs": [],
   "source": [
    "net_input = torch.tensor([[[13.,  4., 11.,  3.,  5.,  1., 14.,  2., 11.,  2., 14.,  1.,  2.,  3.,\n",
    "           9.,  2., 13.,  3.],\n",
    "         [13.,  4., 11.,  3.,  5.,  1., 14.,  2., 11.,  2., 14.,  1.,  2.,  3.,\n",
    "           9.,  2., 13.,  3.]]])"
   ]
  },
  {
   "cell_type": "code",
   "execution_count": null,
   "metadata": {},
   "outputs": [],
   "source": [
    "net_input.size()"
   ]
  },
  {
   "cell_type": "code",
   "execution_count": null,
   "metadata": {},
   "outputs": [],
   "source": [
    "def compare_weights(net):\n",
    "    path = '/Users/morgan/Code/PokerAI/poker/checkpoints/frozen_layers/hand_board_weights'\n",
    "    if torch.cuda.is_available():\n",
    "        layer_weights = torch.load(path)\n",
    "    else:\n",
    "        layer_weights = torch.load(path,map_location=torch.device('cpu'))\n",
    "    print(net)\n",
    "    for name, param in net.named_parameters():\n",
    "        if name in layer_weights:\n",
    "            print(f'Layer {name},Equal {np.array_equal(param.data.numpy(),layer_weights[name].data.numpy())}')\n"
   ]
  },
  {
   "cell_type": "markdown",
   "metadata": {},
   "source": [
    "# compare vs baseline"
   ]
  },
  {
   "cell_type": "code",
   "execution_count": null,
   "metadata": {},
   "outputs": [],
   "source": [
    "compare_weights(net)"
   ]
  },
  {
   "cell_type": "code",
   "execution_count": null,
   "metadata": {},
   "outputs": [],
   "source": [
    "out = net(net_input)"
   ]
  },
  {
   "cell_type": "code",
   "execution_count": null,
   "metadata": {},
   "outputs": [],
   "source": [
    "print(hardcode_handstrength(net_input))"
   ]
  },
  {
   "cell_type": "markdown",
   "metadata": {},
   "source": [
    "# Duplicate Poker\n",
    "\n",
    "Where hands are reversed"
   ]
  },
  {
   "cell_type": "code",
   "execution_count": 6,
   "metadata": {},
   "outputs": [],
   "source": [
    "from collections import deque\n",
    "import poker_env.datatypes as pdt\n",
    "from tournament import tournament,generate_duplicate_decks\n",
    "from poker_env.env import Poker\n",
    "from poker_env.config import Config\n",
    "import copy"
   ]
  },
  {
   "cell_type": "code",
   "execution_count": 7,
   "metadata": {},
   "outputs": [],
   "source": [
    "config = Config()\n",
    "game_object = pdt.Globals.GameTypeDict[pdt.GameTypes.OMAHAHI]\n",
    "\n",
    "env_params = {\n",
    "    'game':pdt.GameTypes.OMAHAHI,\n",
    "    'betsizes': game_object.rule_params['betsizes'],\n",
    "    'bet_type': game_object.rule_params['bettype'],\n",
    "    'n_players': 2,\n",
    "    'pot':game_object.state_params['pot'],\n",
    "    'stacksize': game_object.state_params['stacksize'],\n",
    "    'cards_per_player': game_object.state_params['cards_per_player'],\n",
    "    'starting_street': game_object.starting_street,\n",
    "    'global_mapping':config.global_mapping,\n",
    "    'state_mapping':config.state_mapping,\n",
    "    'obs_mapping':config.obs_mapping,\n",
    "    'shuffle':False\n",
    "}"
   ]
  },
  {
   "cell_type": "code",
   "execution_count": 8,
   "metadata": {},
   "outputs": [],
   "source": [
    "env = Poker(env_params)"
   ]
  },
  {
   "cell_type": "code",
   "execution_count": 9,
   "metadata": {},
   "outputs": [],
   "source": [
    "duplicate_decks = generate_duplicate_decks(2)"
   ]
  },
  {
   "cell_type": "code",
   "execution_count": 20,
   "metadata": {},
   "outputs": [],
   "source": [
    "state,obs,done,action_mask,betsize_mask = env.reset(copy.deepcopy(duplicate_decks[0]))"
   ]
  },
  {
   "cell_type": "code",
   "execution_count": 21,
   "metadata": {},
   "outputs": [
    {
     "name": "stdout",
     "output_type": "stream",
     "text": [
      "[[7, 2], [11, 3], [10, 3], [4, 2]]\n",
      "[[2, 2], [4, 4], [3, 1], [7, 1]]\n",
      "[13, 2, 9, 2, 2, 1, 7, 3, 0, 0]\n",
      "deque([[5, 1], [6, 4], [14, 4], [9, 1], [2, 3], [11, 4], [5, 2], [6, 3], [3, 4], [3, 3], [13, 3], [7, 4], [8, 2], [9, 4], [10, 4], [8, 4], [11, 2], [5, 4], [12, 2], [12, 1], [12, 3], [4, 3], [6, 1], [6, 2], [2, 4], [4, 1], [10, 2], [9, 3], [13, 1], [8, 1], [10, 1], [8, 3], [14, 1], [14, 3], [13, 4], [14, 2], [12, 4], [5, 3], [3, 2], [11, 1]], maxlen=52)\n",
      "40\n"
     ]
    }
   ],
   "source": [
    "print(env.players['SB'].hand)\n",
    "print(env.players['BB'].hand)\n",
    "print(env.board)\n",
    "print(env.deck.deck)\n",
    "print(len(env.deck.deck))"
   ]
  },
  {
   "cell_type": "code",
   "execution_count": 24,
   "metadata": {},
   "outputs": [],
   "source": [
    "state,obs,done,action_mask,betsize_mask = env.reset()"
   ]
  },
  {
   "cell_type": "code",
   "execution_count": 25,
   "metadata": {},
   "outputs": [
    {
     "name": "stdout",
     "output_type": "stream",
     "text": [
      "[[14, 4], [14, 3], [14, 2], [14, 1]]\n",
      "[[13, 4], [13, 3], [13, 2], [13, 1]]\n",
      "[12, 4, 12, 3, 12, 2, 12, 1, 0, 0]\n",
      "deque([[2, 1], [2, 2], [2, 3], [2, 4], [3, 1], [3, 2], [3, 3], [3, 4], [4, 1], [4, 2], [4, 3], [4, 4], [5, 1], [5, 2], [5, 3], [5, 4], [6, 1], [6, 2], [6, 3], [6, 4], [7, 1], [7, 2], [7, 3], [7, 4], [8, 1], [8, 2], [8, 3], [8, 4], [9, 1], [9, 2], [9, 3], [9, 4], [10, 1], [10, 2], [10, 3], [10, 4], [11, 1], [11, 2], [11, 3], [11, 4]], maxlen=52)\n",
      "40\n"
     ]
    }
   ],
   "source": [
    "print(env.players['SB'].hand)\n",
    "print(env.players['BB'].hand)\n",
    "print(env.board)\n",
    "print(env.deck.deck)\n",
    "print(len(env.deck.deck))"
   ]
  },
  {
   "cell_type": "code",
   "execution_count": 12,
   "metadata": {},
   "outputs": [
    {
     "name": "stdout",
     "output_type": "stream",
     "text": [
      "2\n"
     ]
    }
   ],
   "source": [
    "print(len(duplicate_decks))"
   ]
  },
  {
   "cell_type": "code",
   "execution_count": 13,
   "metadata": {},
   "outputs": [
    {
     "data": {
      "text/plain": [
       "52"
      ]
     },
     "execution_count": 13,
     "metadata": {},
     "output_type": "execute_result"
    }
   ],
   "source": [
    "len(duplicate_decks[0])"
   ]
  },
  {
   "cell_type": "code",
   "execution_count": 14,
   "metadata": {},
   "outputs": [
    {
     "data": {
      "text/plain": [
       "deque([[5, 1],\n",
       "       [6, 4],\n",
       "       [14, 4],\n",
       "       [9, 1],\n",
       "       [2, 3],\n",
       "       [11, 4],\n",
       "       [5, 2],\n",
       "       [6, 3],\n",
       "       [3, 4],\n",
       "       [3, 3],\n",
       "       [13, 3],\n",
       "       [7, 4],\n",
       "       [8, 2],\n",
       "       [9, 4],\n",
       "       [10, 4],\n",
       "       [8, 4],\n",
       "       [11, 2],\n",
       "       [5, 4],\n",
       "       [12, 2],\n",
       "       [12, 1],\n",
       "       [12, 3],\n",
       "       [4, 3],\n",
       "       [6, 1],\n",
       "       [6, 2],\n",
       "       [2, 4],\n",
       "       [4, 1],\n",
       "       [10, 2],\n",
       "       [9, 3],\n",
       "       [13, 1],\n",
       "       [8, 1],\n",
       "       [10, 1],\n",
       "       [8, 3],\n",
       "       [14, 1],\n",
       "       [14, 3],\n",
       "       [13, 4],\n",
       "       [14, 2],\n",
       "       [12, 4],\n",
       "       [5, 3],\n",
       "       [3, 2],\n",
       "       [11, 1],\n",
       "       [7, 3],\n",
       "       [2, 1],\n",
       "       [9, 2],\n",
       "       [13, 2],\n",
       "       [7, 1],\n",
       "       [3, 1],\n",
       "       [4, 4],\n",
       "       [2, 2],\n",
       "       [4, 2],\n",
       "       [10, 3],\n",
       "       [11, 3],\n",
       "       [7, 2]])"
      ]
     },
     "execution_count": 14,
     "metadata": {},
     "output_type": "execute_result"
    }
   ],
   "source": [
    "duplicate_decks[0]"
   ]
  },
  {
   "cell_type": "code",
   "execution_count": 15,
   "metadata": {},
   "outputs": [
    {
     "data": {
      "text/plain": [
       "deque([[5, 1],\n",
       "       [6, 4],\n",
       "       [14, 4],\n",
       "       [9, 1],\n",
       "       [2, 3],\n",
       "       [11, 4],\n",
       "       [5, 2],\n",
       "       [6, 3],\n",
       "       [3, 4],\n",
       "       [3, 3],\n",
       "       [13, 3],\n",
       "       [7, 4],\n",
       "       [8, 2],\n",
       "       [9, 4],\n",
       "       [10, 4],\n",
       "       [8, 4],\n",
       "       [11, 2],\n",
       "       [5, 4],\n",
       "       [12, 2],\n",
       "       [12, 1],\n",
       "       [12, 3],\n",
       "       [4, 3],\n",
       "       [6, 1],\n",
       "       [6, 2],\n",
       "       [2, 4],\n",
       "       [4, 1],\n",
       "       [10, 2],\n",
       "       [9, 3],\n",
       "       [13, 1],\n",
       "       [8, 1],\n",
       "       [10, 1],\n",
       "       [8, 3],\n",
       "       [14, 1],\n",
       "       [14, 3],\n",
       "       [13, 4],\n",
       "       [14, 2],\n",
       "       [12, 4],\n",
       "       [5, 3],\n",
       "       [3, 2],\n",
       "       [11, 1],\n",
       "       [7, 3],\n",
       "       [2, 1],\n",
       "       [9, 2],\n",
       "       [13, 2],\n",
       "       [4, 2],\n",
       "       [10, 3],\n",
       "       [11, 3],\n",
       "       [7, 2],\n",
       "       [7, 1],\n",
       "       [3, 1],\n",
       "       [4, 4],\n",
       "       [2, 2]])"
      ]
     },
     "execution_count": 15,
     "metadata": {},
     "output_type": "execute_result"
    }
   ],
   "source": [
    "duplicate_decks[1]"
   ]
  },
  {
   "cell_type": "code",
   "execution_count": null,
   "metadata": {},
   "outputs": [],
   "source": []
  }
 ],
 "metadata": {
  "kernelspec": {
   "display_name": "Python 3",
   "language": "python",
   "name": "python3"
  },
  "language_info": {
   "codemirror_mode": {
    "name": "ipython",
    "version": 3
   },
   "file_extension": ".py",
   "mimetype": "text/x-python",
   "name": "python",
   "nbconvert_exporter": "python",
   "pygments_lexer": "ipython3",
   "version": "3.8.2"
  }
 },
 "nbformat": 4,
 "nbformat_minor": 4
}
