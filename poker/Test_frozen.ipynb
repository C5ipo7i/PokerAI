{
 "cells": [
  {
   "cell_type": "markdown",
   "metadata": {},
   "source": [
    "# Load and test network on any input"
   ]
  },
  {
   "cell_type": "code",
   "execution_count": 1,
   "metadata": {},
   "outputs": [],
   "source": [
    "import torch\n",
    "import numpy as np\n",
    "\n",
    "import poker_env.datatypes as pdt\n",
    "from poker_env.env import Poker\n",
    "from poker_env.config import Config\n",
    "from models.networks import OmahaActor,OmahaQCritic,OmahaObsQCritic,CombinedNet\n",
    "from models.model_layers import ProcessHandBoard\n",
    "from models.model_utils import strip_padding,unspool,hardcode_handstrength"
   ]
  },
  {
   "cell_type": "code",
   "execution_count": 2,
   "metadata": {},
   "outputs": [],
   "source": [
    "config = Config()\n",
    "game_object = pdt.Globals.GameTypeDict[pdt.GameTypes.OMAHAHI]\n",
    "\n",
    "env_params = {\n",
    "    'game':pdt.GameTypes.OMAHAHI,\n",
    "    'betsizes': game_object.rule_params['betsizes'],\n",
    "    'bet_type': game_object.rule_params['bettype'],\n",
    "    'n_players': 2,\n",
    "    'pot':1,\n",
    "    'stacksize': game_object.state_params['stacksize'],\n",
    "    'cards_per_player': game_object.state_params['cards_per_player'],\n",
    "    'starting_street': game_object.starting_street,\n",
    "    'global_mapping':config.global_mapping,\n",
    "    'state_mapping':config.state_mapping,\n",
    "    'obs_mapping':config.obs_mapping,\n",
    "    'shuffle':True\n",
    "}\n",
    "\n",
    "env = Poker(env_params)\n",
    "\n",
    "nS = env.state_space\n",
    "nA = env.action_space\n",
    "nB = env.betsize_space\n",
    "seed = 1235\n",
    "device = torch.device(cuda_dict[args.gpu] if torch.cuda.is_available() else \"cpu\")\n",
    "gpu1 = 'cuda:0'\n",
    "gpu2 = 'cuda:1'\n",
    "network_params                                = config.network_params\n",
    "network_params['device']                      = device"
   ]
  },
  {
   "cell_type": "markdown",
   "metadata": {},
   "source": [
    "# Instantiate net and copy weights"
   ]
  },
  {
   "cell_type": "code",
   "execution_count": 3,
   "metadata": {},
   "outputs": [],
   "source": [
    "def copy_weights(net,path):\n",
    "    if torch.cuda.is_available():\n",
    "        layer_weights = torch.load(path)\n",
    "    else:\n",
    "        layer_weights = torch.load(path,map_location=torch.device('cpu'))\n",
    "    for name, param in net.named_parameters():\n",
    "        if name in layer_weights:\n",
    "            print('update_weights',name)\n",
    "            param.data.copy_(layer_weights[name].data)\n",
    "            param.requires_grad = False"
   ]
  },
  {
   "cell_type": "code",
   "execution_count": 4,
   "metadata": {},
   "outputs": [],
   "source": [
    "net = ProcessHandBoard(network_params,hand_length=4)"
   ]
  },
  {
   "cell_type": "code",
   "execution_count": 5,
   "metadata": {},
   "outputs": [
    {
     "name": "stdout",
     "output_type": "stream",
     "text": [
      "update_weights suit_conv.0.weight\n",
      "update_weights suit_conv.0.bias\n",
      "update_weights suit_conv.1.weight\n",
      "update_weights suit_conv.1.bias\n",
      "update_weights rank_conv.0.weight\n",
      "update_weights rank_conv.0.bias\n",
      "update_weights rank_conv.1.weight\n",
      "update_weights rank_conv.1.bias\n",
      "update_weights hidden_layers.0.weight\n",
      "update_weights hidden_layers.0.bias\n",
      "update_weights hidden_layers.1.weight\n",
      "update_weights hidden_layers.1.bias\n",
      "update_weights categorical_output.weight\n",
      "update_weights categorical_output.bias\n"
     ]
    }
   ],
   "source": [
    "copy_weights(net,config.network_params['actor_hand_recognizer_path'])"
   ]
  },
  {
   "cell_type": "code",
   "execution_count": 6,
   "metadata": {
    "scrolled": true
   },
   "outputs": [
    {
     "name": "stdout",
     "output_type": "stream",
     "text": [
      "suit_conv.0.weight False\n",
      "suit_conv.0.bias False\n",
      "suit_conv.1.weight False\n",
      "suit_conv.1.bias False\n",
      "rank_conv.0.weight False\n",
      "rank_conv.0.bias False\n",
      "rank_conv.1.weight False\n",
      "rank_conv.1.bias False\n",
      "hand_out.weight True\n",
      "hand_out.bias True\n",
      "hidden_layers.0.weight False\n",
      "hidden_layers.0.bias False\n",
      "hidden_layers.1.weight False\n",
      "hidden_layers.1.bias False\n",
      "categorical_output.weight False\n",
      "categorical_output.bias False\n"
     ]
    }
   ],
   "source": [
    "for name, param in net.named_parameters():\n",
    "    print(name,param.requires_grad)"
   ]
  },
  {
   "cell_type": "code",
   "execution_count": 11,
   "metadata": {},
   "outputs": [],
   "source": [
    "net_input = torch.tensor([[[ 7.,  1.,  9.,  3.,  2.,  2., 11.,  2., 12.,  1.,  8.,  2., 11.,  3.,\n",
    "          14.,  3.,  2.,  1.],\n",
    "         [ 7.,  1.,  9.,  3.,  2.,  2., 11.,  2., 12.,  1.,  8.,  2., 11.,  3.,\n",
    "          14.,  3.,  2.,  1.]]])"
   ]
  },
  {
   "cell_type": "code",
   "execution_count": 12,
   "metadata": {},
   "outputs": [
    {
     "data": {
      "text/plain": [
       "torch.Size([1, 2, 18])"
      ]
     },
     "execution_count": 12,
     "metadata": {},
     "output_type": "execute_result"
    }
   ],
   "source": [
    "net_input.size()"
   ]
  },
  {
   "cell_type": "markdown",
   "metadata": {},
   "source": [
    "# compare vs baseline"
   ]
  },
  {
   "cell_type": "code",
   "execution_count": 13,
   "metadata": {},
   "outputs": [
    {
     "name": "stdout",
     "output_type": "stream",
     "text": [
      "x tensor([[[ 7.,  1.,  9.,  3.,  2.,  2., 11.,  2., 12.,  1.,  8.,  2., 11.,  3.,\n",
      "          14.,  3.,  2.,  1.],\n",
      "         [ 7.,  1.,  9.,  3.,  2.,  2., 11.,  2., 12.,  1.,  8.,  2., 11.,  3.,\n",
      "          14.,  3.,  2.,  1.]]])\n",
      "result torch.Size([1, 2, 60])\n",
      "best hand guess tensor([[2919, 2919]])\n",
      "baseline tensor([[[2919.],\n",
      "         [2919.]]])\n"
     ]
    }
   ],
   "source": [
    "out = net(net_input)"
   ]
  },
  {
   "cell_type": "code",
   "execution_count": 14,
   "metadata": {},
   "outputs": [
    {
     "name": "stdout",
     "output_type": "stream",
     "text": [
      "tensor([[[2919.],\n",
      "         [2919.]]])\n"
     ]
    }
   ],
   "source": [
    "print(hardcode_handstrength(net_input))"
   ]
  },
  {
   "cell_type": "code",
   "execution_count": null,
   "metadata": {},
   "outputs": [],
   "source": []
  }
 ],
 "metadata": {
  "kernelspec": {
   "display_name": "Python 3",
   "language": "python",
   "name": "python3"
  },
  "language_info": {
   "codemirror_mode": {
    "name": "ipython",
    "version": 3
   },
   "file_extension": ".py",
   "mimetype": "text/x-python",
   "name": "python",
   "nbconvert_exporter": "python",
   "pygments_lexer": "ipython3",
   "version": "3.8.2"
  }
 },
 "nbformat": 4,
 "nbformat_minor": 4
}
